{
 "cells": [
  {
   "cell_type": "code",
   "execution_count": null,
   "metadata": {},
   "outputs": [],
   "source": [
    "import pytesseract\n",
    "from pdf2image import convert_from_path\n",
    "\n",
    "# Path to the PDF file\n",
    "pdf_path = 'D:/Kiran Website/Patient Rights & Respo. - 2023-24 Final.pdf'\n",
    "\n",
    "# Convert PDF pages to images\n",
    "images = convert_from_path(pdf_path)\n",
    "\n",
    "# Extracted text\n",
    "extracted_text = ''\n",
    "\n",
    "# OCR on each image\n",
    "for i, image in enumerate(images):\n",
    "    # Perform OCR using pytesseract\n",
    "    text = pytesseract.image_to_string(image)\n",
    "    \n",
    "    # Append the extracted text\n",
    "    extracted_text += f\"Page {i+1}:\\n{text}\\n\\n\"\n",
    "\n",
    "# Save extracted text to a file\n",
    "output_file = 'output.txt'\n",
    "with open(output_file, 'w', encoding='utf-8') as file:\n",
    "    file.write(extracted_text)\n",
    "\n",
    "print(f\"Text extracted and saved to {output_file}.\")"
   ]
  }
 ],
 "metadata": {
  "kernelspec": {
   "display_name": "Python 3",
   "language": "python",
   "name": "python3"
  },
  "language_info": {
   "codemirror_mode": {
    "name": "ipython",
    "version": 3
   },
   "file_extension": ".py",
   "mimetype": "text/x-python",
   "name": "python",
   "nbconvert_exporter": "python",
   "pygments_lexer": "ipython3",
   "version": "3.11.4"
  },
  "orig_nbformat": 4
 },
 "nbformat": 4,
 "nbformat_minor": 2
}
