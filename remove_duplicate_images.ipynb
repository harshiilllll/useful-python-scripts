{
 "cells": [
  {
   "cell_type": "code",
   "execution_count": null,
   "metadata": {},
   "outputs": [],
   "source": [
    "import os\n",
    "import hashlib\n",
    "\n",
    "def get_file_hash(file_path):\n",
    "    \"\"\"\n",
    "    Generate and return the SHA-256 hash of a file.\n",
    "    \"\"\"\n",
    "    sha256_hash = hashlib.sha256()\n",
    "    with open(file_path, \"rb\") as f:\n",
    "        for byte_block in iter(lambda: f.read(4096), b\"\"):\n",
    "            sha256_hash.update(byte_block)\n",
    "    return sha256_hash.hexdigest()\n",
    "\n",
    "def remove_duplicate_images(folder_path):\n",
    "    \"\"\"\n",
    "    Remove duplicate images from a folder based on their content hash.\n",
    "    \"\"\"\n",
    "    hash_dict = {}\n",
    "    duplicates = []\n",
    "\n",
    "    # Traverse the folder and calculate the hash for each image\n",
    "    for dirpath, dirnames, filenames in os.walk(folder_path):\n",
    "        for filename in filenames:\n",
    "            file_path = os.path.join(dirpath, filename)\n",
    "            file_hash = get_file_hash(file_path)\n",
    "\n",
    "            if file_hash in hash_dict:\n",
    "                duplicates.append(file_path)\n",
    "            else:\n",
    "                hash_dict[file_hash] = file_path\n",
    "\n",
    "    # Remove the duplicate images\n",
    "    for duplicate in duplicates:\n",
    "        os.remove(duplicate)\n",
    "        print(f\"Removed duplicate image: {duplicate}\")\n",
    "\n",
    "    print(\"Duplicate removal process completed.\")\n",
    "\n",
    "# Usage example\n",
    "folder_path = \"/path/to/folder\"\n",
    "remove_duplicate_images(folder_path)\n"
   ]
  }
 ],
 "metadata": {
  "language_info": {
   "name": "python"
  },
  "orig_nbformat": 4
 },
 "nbformat": 4,
 "nbformat_minor": 2
}
