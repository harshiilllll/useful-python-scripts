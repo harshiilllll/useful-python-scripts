{
 "cells": [
  {
   "cell_type": "code",
   "execution_count": null,
   "metadata": {},
   "outputs": [],
   "source": [
    "%pip install openpyxl"
   ]
  },
  {
   "cell_type": "code",
   "execution_count": 3,
   "metadata": {},
   "outputs": [],
   "source": [
    "import pandas as pd\n",
    "\n",
    "# Read the Excel file into a pandas DataFrame\n",
    "df = pd.read_excel(\"D:\\Python Scripts\\sc_englishnames.xlsx\")\n",
    "\n",
    "# Create a dictionary to store concatenated names for duplicate phone numbers\n",
    "phone_number_dict = {}\n",
    "\n",
    "# Iterate through the rows of the DataFrame\n",
    "for index, row in df.iterrows():\n",
    "    phone_number = row[0]\n",
    "    name = row[1]\n",
    "    \n",
    "    # If phone number is not already in the dictionary, add it\n",
    "    if phone_number not in phone_number_dict:\n",
    "        phone_number_dict[phone_number] = [name]\n",
    "    else:\n",
    "        # Concatenate the names and update the dictionary\n",
    "        phone_number_dict[phone_number].append(name)\n",
    "\n",
    "# Create new DataFrame with cleaned data\n",
    "cleaned_data = []\n",
    "for phone_number, names in phone_number_dict.items():\n",
    "    if len(names) > 1:\n",
    "        full_name = \" / \".join(names)\n",
    "        cleaned_data.append([phone_number, full_name])\n",
    "    else:\n",
    "        cleaned_data.append([phone_number, names[0]])\n",
    "\n",
    "# Create a new pandas DataFrame from the cleaned data\n",
    "cleaned_df = pd.DataFrame(cleaned_data, columns=[\"Phone Number\", \"Name\"])\n",
    "\n",
    "# Save the cleaned DataFrame to a new Excel file\n",
    "cleaned_df.to_excel(\"cleaned_data_counter.xlsx\", index=False)\n"
   ]
  },
  {
   "cell_type": "code",
   "execution_count": null,
   "metadata": {},
   "outputs": [],
   "source": [
    "import pandas as pd\n",
    "\n",
    "# Read the data from your Excel file\n",
    "data = pd.read_excel('D:\\Python Scripts\\combined_data.xlsx')  # Replace with your Excel file name\n",
    "\n",
    "# Identify duplicate phone numbers and create a column for duplicate occurrence number\n",
    "data['DuplicateCount'] = data.groupby('Phone').cumcount()\n",
    "\n",
    "# Create a dictionary to store duplicates by occurrence count\n",
    "duplicate_sheets = {}\n",
    "for i in range(1, data['DuplicateCount'].max() + 1):\n",
    "    duplicate_sheets[i] = data[data['DuplicateCount'] == i]\n",
    "    \n",
    "unique_data = data[data['DuplicateCount'] == 0]\n",
    "\n",
    "# Save both DataFrames to separate sheets\n",
    "with pd.ExcelWriter('output_file5.xlsx') as writer:  # Replace with your desired output file name\n",
    "    unique_data.drop(columns='DuplicateCount', inplace=True)\n",
    "    unique_data.to_excel(writer, sheet_name='Sheet1', index=False)\n",
    "    \n",
    "    for i, sheet_data in duplicate_sheets.items():\n",
    "        sheet_name = f'Sheet{i + 1}'\n",
    "        sheet_data.drop(columns='DuplicateCount', inplace=True)\n",
    "        sheet_data.to_excel(writer, sheet_name=sheet_name, index=False)"
   ]
  }
 ],
 "metadata": {
  "kernelspec": {
   "display_name": "Python 3",
   "language": "python",
   "name": "python3"
  },
  "language_info": {
   "codemirror_mode": {
    "name": "ipython",
    "version": 3
   },
   "file_extension": ".py",
   "mimetype": "text/x-python",
   "name": "python",
   "nbconvert_exporter": "python",
   "pygments_lexer": "ipython3",
   "version": "3.11.4"
  },
  "orig_nbformat": 4
 },
 "nbformat": 4,
 "nbformat_minor": 2
}
