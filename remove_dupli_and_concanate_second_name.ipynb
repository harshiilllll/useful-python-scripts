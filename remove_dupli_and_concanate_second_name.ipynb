{
 "cells": [
  {
   "cell_type": "code",
   "execution_count": 3,
   "metadata": {},
   "outputs": [
    {
     "name": "stdout",
     "output_type": "stream",
     "text": [
      "Note: you may need to restart the kernel to use updated packages.Collecting openpyxl\n",
      "  Downloading openpyxl-3.1.2-py2.py3-none-any.whl (249 kB)\n",
      "                                              0.0/250.0 kB ? eta -:--:--\n",
      "     -                                        10.2/250.0 kB ? eta -:--:--\n",
      "     ---------                             61.4/250.0 kB 656.4 kB/s eta 0:00:01\n",
      "     -------------                         92.2/250.0 kB 655.4 kB/s eta 0:00:01\n",
      "     --------------------                 143.4/250.0 kB 778.5 kB/s eta 0:00:01\n",
      "     -------------------------            174.1/250.0 kB 751.6 kB/s eta 0:00:01\n",
      "     -----------------------------        204.8/250.0 kB 734.2 kB/s eta 0:00:01\n",
      "     -----------------------------------  245.8/250.0 kB 754.9 kB/s eta 0:00:01\n",
      "     ------------------------------------ 250.0/250.0 kB 730.9 kB/s eta 0:00:00\n",
      "Collecting et-xmlfile (from openpyxl)\n",
      "  Downloading et_xmlfile-1.1.0-py3-none-any.whl (4.7 kB)\n",
      "Installing collected packages: et-xmlfile, openpyxl\n",
      "Successfully installed et-xmlfile-1.1.0 openpyxl-3.1.2\n",
      "\n"
     ]
    },
    {
     "name": "stderr",
     "output_type": "stream",
     "text": [
      "\n",
      "[notice] A new release of pip is available: 23.1.2 -> 23.2.1\n",
      "[notice] To update, run: C:\\Users\\Administrator\\AppData\\Local\\Microsoft\\WindowsApps\\PythonSoftwareFoundation.Python.3.11_qbz5n2kfra8p0\\python.exe -m pip install --upgrade pip\n"
     ]
    }
   ],
   "source": [
    "%pip install openpyxl"
   ]
  },
  {
   "cell_type": "code",
   "execution_count": 5,
   "metadata": {},
   "outputs": [],
   "source": [
    "import pandas as pd\n",
    "\n",
    "# Read the Excel file into a pandas DataFrame\n",
    "df = pd.read_excel(\"C:/Users/Administrator/Downloads/DUPLICATED DATA.xlsx\")\n",
    "\n",
    "# Create a dictionary to store concatenated names for duplicate phone numbers\n",
    "phone_number_dict = {}\n",
    "\n",
    "# Iterate through the rows of the DataFrame\n",
    "for index, row in df.iterrows():\n",
    "    phone_number = row[0]\n",
    "    name = row[1]\n",
    "    \n",
    "    # If phone number is not already in the dictionary, add it\n",
    "    if phone_number not in phone_number_dict:\n",
    "        phone_number_dict[phone_number] = [name]\n",
    "    else:\n",
    "        # Concatenate the names and update the dictionary\n",
    "        phone_number_dict[phone_number].append(name)\n",
    "\n",
    "# Create new DataFrame with cleaned data\n",
    "cleaned_data = []\n",
    "for phone_number, names in phone_number_dict.items():\n",
    "    if len(names) > 1:\n",
    "        full_name = \" / \".join(names)\n",
    "        cleaned_data.append([phone_number, full_name])\n",
    "    else:\n",
    "        cleaned_data.append([phone_number, names[0]])\n",
    "\n",
    "# Create a new pandas DataFrame from the cleaned data\n",
    "cleaned_df = pd.DataFrame(cleaned_data, columns=[\"Phone Number\", \"Name\"])\n",
    "\n",
    "# Save the cleaned DataFrame to a new Excel file\n",
    "cleaned_df.to_excel(\"cleaned_data.xlsx\", index=False)\n"
   ]
  }
 ],
 "metadata": {
  "kernelspec": {
   "display_name": "Python 3",
   "language": "python",
   "name": "python3"
  },
  "language_info": {
   "codemirror_mode": {
    "name": "ipython",
    "version": 3
   },
   "file_extension": ".py",
   "mimetype": "text/x-python",
   "name": "python",
   "nbconvert_exporter": "python",
   "pygments_lexer": "ipython3",
   "version": "3.11.4"
  },
  "orig_nbformat": 4
 },
 "nbformat": 4,
 "nbformat_minor": 2
}
