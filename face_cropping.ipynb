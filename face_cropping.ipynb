{
 "cells": [
  {
   "cell_type": "code",
   "execution_count": null,
   "metadata": {},
   "outputs": [],
   "source": [
    "%pip install opencv-python\n",
    "%pip install opencv-python-headless"
   ]
  },
  {
   "cell_type": "code",
   "execution_count": null,
   "metadata": {},
   "outputs": [],
   "source": [
    "%pip install cv2"
   ]
  },
  {
   "cell_type": "code",
   "execution_count": null,
   "metadata": {},
   "outputs": [],
   "source": [
    "%pip install pdf2image"
   ]
  },
  {
   "cell_type": "code",
   "execution_count": null,
   "metadata": {},
   "outputs": [],
   "source": [
    "%pip install pytesseract"
   ]
  },
  {
   "cell_type": "code",
   "execution_count": null,
   "metadata": {},
   "outputs": [],
   "source": [
    "import os\n",
    "import cv2\n",
    "\n",
    "def crop_faces_from_folder(folder_path):\n",
    "    # Load the pre-trained face detection classifier\n",
    "    face_cascade = cv2.CascadeClassifier(cv2.data.haarcascades + 'haarcascade_frontalface_default.xml')\n",
    "\n",
    "    # Get the list of files in the folder\n",
    "    file_list = os.listdir(folder_path)\n",
    "\n",
    "    # Create a subfolder named \"cropped\" within the original folder\n",
    "    cropped_folder = os.path.join(folder_path, 'cropped')\n",
    "    os.makedirs(cropped_folder, exist_ok=True)\n",
    "\n",
    "    # Iterate over each file in the folder\n",
    "    for file_name in file_list:\n",
    "        # Check if the file is an image\n",
    "        if file_name.lower().endswith(('.png', '.jpg', '.jpeg')):\n",
    "            try:\n",
    "                # Construct the file path\n",
    "                image_path = os.path.join(folder_path, file_name)\n",
    "\n",
    "                # Load the image\n",
    "                image = cv2.imread(image_path)\n",
    "\n",
    "                # Convert the image to grayscale\n",
    "                gray = cv2.cvtColor(image, cv2.COLOR_BGR2GRAY)\n",
    "\n",
    "                # Detect faces in the image\n",
    "                faces = face_cascade.detectMultiScale(gray, scaleFactor=1.1, minNeighbors=5, minSize=(30, 30))\n",
    "\n",
    "                # Crop and save each face\n",
    "                for (x, y, w, h) in faces:\n",
    "                    # Adjust the cropping area to include the full head and face\n",
    "                    y -= int(h * 0.2)\n",
    "                    h = int(h * 1.4)\n",
    "\n",
    "                    # Ensure the cropping area is within the image boundaries\n",
    "                    y = max(0, y)\n",
    "                    h = min(image.shape[0] - y, h)\n",
    "\n",
    "                    # Crop the face\n",
    "                    cropped_face = image[y:y + h, x:x + w]\n",
    "\n",
    "                    # Generate the output file path\n",
    "                    output_path = os.path.join(cropped_folder, f'cropped_{file_name}')\n",
    "\n",
    "                    # Save the cropped face\n",
    "                    cv2.imwrite(output_path, cropped_face)\n",
    "\n",
    "                print(f\"Cropped faces from {file_name} successfully.\")\n",
    "            except Exception as e:\n",
    "                print(f\"Error cropping faces from {file_name}: {str(e)}\")\n",
    "\n",
    "# Path to the folder containing the images\n",
    "folder_path = '//192.168.9.114/itbackup/Senior c data/Senior Citizen All'\n",
    "\n",
    "# Call the function to crop faces from the images in the folder\n",
    "crop_faces_from_folder(folder_path)\n"
   ]
  },
  {
   "cell_type": "code",
   "execution_count": null,
   "metadata": {},
   "outputs": [],
   "source": [
    "import os\n",
    "\n",
    "folder_path = \"D:/2nd cropped\"\n",
    "characters_to_trim = 8\n",
    "\n",
    "# Get the list of files in the folder\n",
    "files = os.listdir(folder_path)\n",
    "\n",
    "# Iterate over the files\n",
    "for file_name in files:\n",
    "    # Get the full path of the file\n",
    "    file_path = os.path.join(folder_path, file_name)\n",
    "    \n",
    "    # Check if it's a file (not a subdirectory)\n",
    "    if os.path.isfile(file_path):\n",
    "        # Trim the specified number of characters from the beginning of the file name\n",
    "        new_file_name = file_name[characters_to_trim:]\n",
    "        \n",
    "        # Construct the new file path with the trimmed name\n",
    "        new_file_path = os.path.join(folder_path, new_file_name)\n",
    "        \n",
    "        # Rename the file\n",
    "        os.rename(file_path, new_file_path)\n",
    "        print(f\"Renamed {file_name} to {new_file_name}\")\n"
   ]
  }
 ],
 "metadata": {
  "kernelspec": {
   "display_name": "Python 3",
   "language": "python",
   "name": "python3"
  },
  "language_info": {
   "codemirror_mode": {
    "name": "ipython",
    "version": 3
   },
   "file_extension": ".py",
   "mimetype": "text/x-python",
   "name": "python",
   "nbconvert_exporter": "python",
   "pygments_lexer": "ipython3",
   "version": "3.11.4"
  },
  "orig_nbformat": 4
 },
 "nbformat": 4,
 "nbformat_minor": 2
}
