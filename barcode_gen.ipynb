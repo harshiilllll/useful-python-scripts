{
 "cells": [
  {
   "cell_type": "code",
   "execution_count": 1,
   "metadata": {},
   "outputs": [
    {
     "name": "stdout",
     "output_type": "stream",
     "text": [
      "Collecting python-barcode\n",
      "  Downloading python_barcode-0.15.1-py3-none-any.whl (212 kB)\n",
      "                                              0.0/213.0 kB ? eta -:--:--\n",
      "     -----                                 30.7/213.0 kB 660.6 kB/s eta 0:00:01\n",
      "     --------------------------------       184.3/213.0 kB 2.2 MB/s eta 0:00:01\n",
      "     -------------------------------------- 213.0/213.0 kB 2.2 MB/s eta 0:00:00\n",
      "Installing collected packages: python-barcode\n",
      "Successfully installed python-barcode-0.15.1\n",
      "Note: you may need to restart the kernel to use updated packages.\n"
     ]
    },
    {
     "name": "stderr",
     "output_type": "stream",
     "text": [
      "\n",
      "[notice] A new release of pip is available: 23.1.2 -> 23.2.1\n",
      "[notice] To update, run: C:\\Users\\Administrator\\AppData\\Local\\Microsoft\\WindowsApps\\PythonSoftwareFoundation.Python.3.11_qbz5n2kfra8p0\\python.exe -m pip install --upgrade pip\n"
     ]
    }
   ],
   "source": [
    "%pip install python-barcode\n"
   ]
  },
  {
   "cell_type": "code",
   "execution_count": 9,
   "metadata": {},
   "outputs": [
    {
     "name": "stdout",
     "output_type": "stream",
     "text": [
      "Barcode image saved as 'my_barcode.png'\n"
     ]
    }
   ],
   "source": [
    "import barcode\n",
    "from barcode import generate\n",
    "from barcode.writer import ImageWriter\n",
    "\n",
    "def generate_barcode(data, barcode_type='code128', output_filename='barcode'):\n",
    "    # Choose the barcode type (code128, code39, etc.)\n",
    "    barcode_class = barcode.get_barcode_class(barcode_type)\n",
    "\n",
    "    # Create the barcode object\n",
    "    barcode_obj = barcode_class(data, writer=ImageWriter())\n",
    "\n",
    "    # Save the barcode as an image\n",
    "    filename = barcode_obj.save(output_filename)\n",
    "\n",
    "    print(f\"Barcode image saved as '{filename}'\")\n",
    "\n",
    "if __name__ == \"__main__\":\n",
    "    # Replace '123456789' with the data you want to encode in the barcode\n",
    "    generate_barcode('KMC/PC/C/007', barcode_type='code128', output_filename='KMC/PC/C/007')\n"
   ]
  }
 ],
 "metadata": {
  "kernelspec": {
   "display_name": "Python 3",
   "language": "python",
   "name": "python3"
  },
  "language_info": {
   "codemirror_mode": {
    "name": "ipython",
    "version": 3
   },
   "file_extension": ".py",
   "mimetype": "text/x-python",
   "name": "python",
   "nbconvert_exporter": "python",
   "pygments_lexer": "ipython3",
   "version": "3.11.4"
  },
  "orig_nbformat": 4
 },
 "nbformat": 4,
 "nbformat_minor": 2
}
