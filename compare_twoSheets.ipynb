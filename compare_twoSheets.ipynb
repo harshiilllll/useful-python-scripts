{
 "cells": [
  {
   "cell_type": "code",
   "execution_count": 5,
   "metadata": {},
   "outputs": [
    {
     "name": "stdout",
     "output_type": "stream",
     "text": [
      "Extracted rows from Sheet1 that are not in Sheet2 and saved to 'rows_only_in_sheet1.xlsx'.\n"
     ]
    }
   ],
   "source": [
    "import pandas as pd\n",
    "\n",
    "# Load the Excel sheets into pandas DataFrames\n",
    "sheet1 = pd.read_excel('sheet1.xlsx')\n",
    "sheet2 = pd.read_excel('sheet2.xlsx')\n",
    "\n",
    "# Specify the columns for comparison\n",
    "compare_columns = ['Card No.', 'Name', 'CONTACT']\n",
    "\n",
    "# Merge the two DataFrames based on the specified columns\n",
    "merged_df = pd.merge(sheet1, sheet2, on=compare_columns, how='left', indicator=True)\n",
    "\n",
    "# Filter rows that are only in Sheet1 (left-only)\n",
    "rows_only_in_sheet1 = merged_df[merged_df['_merge'] == 'left_only'][sheet1.columns]\n",
    "\n",
    "# Save the extracted rows to a new Excel file\n",
    "rows_only_in_sheet1.to_excel('rows_only_in_sheet1.xlsx', index=False)\n",
    "\n",
    "print(\"Extracted rows from Sheet1 that are not in Sheet2 and saved to 'rows_only_in_sheet1.xlsx'.\")\n"
   ]
  }
 ],
 "metadata": {
  "kernelspec": {
   "display_name": "Python 3",
   "language": "python",
   "name": "python3"
  },
  "language_info": {
   "codemirror_mode": {
    "name": "ipython",
    "version": 3
   },
   "file_extension": ".py",
   "mimetype": "text/x-python",
   "name": "python",
   "nbconvert_exporter": "python",
   "pygments_lexer": "ipython3",
   "version": "3.11.4"
  },
  "orig_nbformat": 4
 },
 "nbformat": 4,
 "nbformat_minor": 2
}
